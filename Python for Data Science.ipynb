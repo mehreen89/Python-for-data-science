{
 "cells": [
  {
   "cell_type": "markdown",
   "id": "acoustic-norfolk",
   "metadata": {},
   "source": [
    "# Python Tutorial"
   ]
  },
  {
   "cell_type": "code",
   "execution_count": 1,
   "id": "material-mileage",
   "metadata": {},
   "outputs": [
    {
     "name": "stdout",
     "output_type": "stream",
     "text": [
      "Hello world\n"
     ]
    }
   ],
   "source": [
    "x = (\"Hello world\")\n",
    "print (x)"
   ]
  },
  {
   "cell_type": "code",
   "execution_count": 2,
   "id": "guilty-blank",
   "metadata": {},
   "outputs": [
    {
     "name": "stdout",
     "output_type": "stream",
     "text": [
      "Hello World\n"
     ]
    }
   ],
   "source": [
    "print(\"Hello World\")"
   ]
  },
  {
   "cell_type": "markdown",
   "id": "medical-violation",
   "metadata": {},
   "source": [
    "# Variables\n"
   ]
  },
  {
   "cell_type": "code",
   "execution_count": 3,
   "id": "committed-vitamin",
   "metadata": {},
   "outputs": [
    {
     "name": "stdout",
     "output_type": "stream",
     "text": [
      "Variable   Type    Data/Info\n",
      "----------------------------\n",
      "x          int     3\n"
     ]
    }
   ],
   "source": [
    "x = 3\n",
    "%whos"
   ]
  },
  {
   "cell_type": "code",
   "execution_count": 4,
   "id": "excellent-dimension",
   "metadata": {},
   "outputs": [
    {
     "name": "stdout",
     "output_type": "stream",
     "text": [
      "<class 'int'>\n"
     ]
    }
   ],
   "source": [
    "print(type(x))"
   ]
  },
  {
   "cell_type": "code",
   "execution_count": 5,
   "id": "developed-daughter",
   "metadata": {},
   "outputs": [
    {
     "name": "stdout",
     "output_type": "stream",
     "text": [
      "Variable   Type     Data/Info\n",
      "-----------------------------\n",
      "abcd       float    570.9\n",
      "x          int      3\n"
     ]
    }
   ],
   "source": [
    "abcd = 570.9\n",
    "%whos"
   ]
  },
  {
   "cell_type": "code",
   "execution_count": 6,
   "id": "cultural-feature",
   "metadata": {},
   "outputs": [],
   "source": [
    "a,b,c,d,e = 4,5.6,7.9,4,2"
   ]
  },
  {
   "cell_type": "code",
   "execution_count": 7,
   "id": "burning-feeding",
   "metadata": {},
   "outputs": [
    {
     "name": "stdout",
     "output_type": "stream",
     "text": [
      "Variable   Type     Data/Info\n",
      "-----------------------------\n",
      "a          int      4\n",
      "abcd       float    570.9\n",
      "b          float    5.6\n",
      "c          float    7.9\n",
      "d          int      4\n",
      "e          int      2\n",
      "x          int      3\n"
     ]
    }
   ],
   "source": [
    "%whos"
   ]
  },
  {
   "cell_type": "code",
   "execution_count": 8,
   "id": "leading-veteran",
   "metadata": {},
   "outputs": [],
   "source": [
    "del abcd"
   ]
  },
  {
   "cell_type": "code",
   "execution_count": 9,
   "id": "virgin-avatar",
   "metadata": {},
   "outputs": [
    {
     "name": "stdout",
     "output_type": "stream",
     "text": [
      "Variable   Type     Data/Info\n",
      "-----------------------------\n",
      "a          int      4\n",
      "b          float    5.6\n",
      "c          float    7.9\n",
      "d          int      4\n",
      "e          int      2\n",
      "x          int      3\n"
     ]
    }
   ],
   "source": [
    "%whos"
   ]
  },
  {
   "cell_type": "code",
   "execution_count": 10,
   "id": "moved-purpose",
   "metadata": {},
   "outputs": [
    {
     "ename": "NameError",
     "evalue": "name 'abcd' is not defined",
     "output_type": "error",
     "traceback": [
      "\u001b[0;31m---------------------------------------------------------------------------\u001b[0m",
      "\u001b[0;31mNameError\u001b[0m                                 Traceback (most recent call last)",
      "\u001b[0;32m<ipython-input-10-ce1394b9d4d9>\u001b[0m in \u001b[0;36m<module>\u001b[0;34m\u001b[0m\n\u001b[0;32m----> 1\u001b[0;31m \u001b[0mprint\u001b[0m\u001b[0;34m(\u001b[0m\u001b[0mabcd\u001b[0m\u001b[0;34m)\u001b[0m\u001b[0;34m\u001b[0m\u001b[0;34m\u001b[0m\u001b[0m\n\u001b[0m",
      "\u001b[0;31mNameError\u001b[0m: name 'abcd' is not defined"
     ]
    }
   ],
   "source": [
    "print(abcd)"
   ]
  },
  {
   "cell_type": "code",
   "execution_count": null,
   "id": "scheduled-diving",
   "metadata": {},
   "outputs": [],
   "source": [
    "g = 3+4j"
   ]
  },
  {
   "cell_type": "code",
   "execution_count": null,
   "id": "associate-veteran",
   "metadata": {},
   "outputs": [],
   "source": [
    "print(type(g))"
   ]
  },
  {
   "cell_type": "code",
   "execution_count": null,
   "id": "polish-wrong",
   "metadata": {},
   "outputs": [],
   "source": [
    "m = \"Hello, How Are You\""
   ]
  },
  {
   "cell_type": "code",
   "execution_count": null,
   "id": "aerial-jurisdiction",
   "metadata": {},
   "outputs": [],
   "source": [
    "print(m)"
   ]
  },
  {
   "cell_type": "code",
   "execution_count": null,
   "id": "logical-junior",
   "metadata": {},
   "outputs": [],
   "source": [
    "print(type(m))"
   ]
  },
  {
   "cell_type": "code",
   "execution_count": null,
   "id": "controlling-married",
   "metadata": {},
   "outputs": [],
   "source": [
    "%whos"
   ]
  },
  {
   "cell_type": "markdown",
   "id": "united-determination",
   "metadata": {},
   "source": [
    "# Operators"
   ]
  },
  {
   "cell_type": "code",
   "execution_count": null,
   "id": "coupled-mountain",
   "metadata": {},
   "outputs": [],
   "source": [
    "sum = a+b"
   ]
  },
  {
   "cell_type": "code",
   "execution_count": null,
   "id": "hispanic-albania",
   "metadata": {},
   "outputs": [],
   "source": [
    "print(type(sum))"
   ]
  },
  {
   "cell_type": "code",
   "execution_count": null,
   "id": "sensitive-target",
   "metadata": {},
   "outputs": [],
   "source": [
    "v = sum**3/7"
   ]
  },
  {
   "cell_type": "code",
   "execution_count": null,
   "id": "conscious-sociology",
   "metadata": {},
   "outputs": [],
   "source": [
    "print(v)"
   ]
  },
  {
   "cell_type": "code",
   "execution_count": null,
   "id": "aware-decrease",
   "metadata": {},
   "outputs": [],
   "source": [
    "print(type(v))"
   ]
  },
  {
   "cell_type": "code",
   "execution_count": null,
   "id": "turkish-circuit",
   "metadata": {},
   "outputs": [],
   "source": [
    "s1 = \"Hello\"\n",
    "s2 = \"Wolrd\"\n",
    "s = s1 + s2"
   ]
  },
  {
   "cell_type": "code",
   "execution_count": null,
   "id": "solar-stockholm",
   "metadata": {},
   "outputs": [],
   "source": [
    "print(s)"
   ]
  },
  {
   "cell_type": "code",
   "execution_count": null,
   "id": "detailed-generator",
   "metadata": {},
   "outputs": [],
   "source": [
    "3x = 3+2"
   ]
  },
  {
   "cell_type": "code",
   "execution_count": null,
   "id": "challenging-silence",
   "metadata": {},
   "outputs": [],
   "source": [
    "@ 8"
   ]
  },
  {
   "cell_type": "code",
   "execution_count": null,
   "id": "invisible-float",
   "metadata": {},
   "outputs": [],
   "source": [
    "_r = 5"
   ]
  },
  {
   "cell_type": "code",
   "execution_count": null,
   "id": "computational-conversation",
   "metadata": {},
   "outputs": [],
   "source": [
    "print(_r)"
   ]
  },
  {
   "cell_type": "markdown",
   "id": "following-scenario",
   "metadata": {},
   "source": [
    "# Booleans"
   ]
  },
  {
   "cell_type": "code",
   "execution_count": null,
   "id": "minimal-hours",
   "metadata": {},
   "outputs": [],
   "source": [
    "a = True\n",
    "b = True\n",
    "c = False"
   ]
  },
  {
   "cell_type": "code",
   "execution_count": null,
   "id": "happy-leader",
   "metadata": {},
   "outputs": [],
   "source": [
    "print (a and  b)\n",
    "print (a and  c)\n",
    "print (b and  c)"
   ]
  },
  {
   "cell_type": "code",
   "execution_count": null,
   "id": "silent-humor",
   "metadata": {},
   "outputs": [],
   "source": [
    "d = a or c\n",
    "print(d)"
   ]
  },
  {
   "cell_type": "code",
   "execution_count": null,
   "id": "desirable-midwest",
   "metadata": {},
   "outputs": [],
   "source": [
    "not(a)"
   ]
  },
  {
   "cell_type": "code",
   "execution_count": null,
   "id": "fewer-albania",
   "metadata": {},
   "outputs": [],
   "source": [
    "not(b)"
   ]
  },
  {
   "cell_type": "code",
   "execution_count": null,
   "id": "mighty-mortgage",
   "metadata": {},
   "outputs": [],
   "source": [
    "not(c)"
   ]
  },
  {
   "cell_type": "code",
   "execution_count": null,
   "id": "assisted-croatia",
   "metadata": {},
   "outputs": [],
   "source": [
    "t = not(d)"
   ]
  },
  {
   "cell_type": "code",
   "execution_count": null,
   "id": "dressed-cargo",
   "metadata": {},
   "outputs": [],
   "source": [
    "type(t)"
   ]
  },
  {
   "cell_type": "code",
   "execution_count": null,
   "id": "seventh-facial",
   "metadata": {},
   "outputs": [],
   "source": [
    "print(t)"
   ]
  },
  {
   "cell_type": "code",
   "execution_count": null,
   "id": "invisible-handy",
   "metadata": {},
   "outputs": [],
   "source": [
    "not((a and b) or (c and d))"
   ]
  },
  {
   "cell_type": "markdown",
   "id": "decreased-subject",
   "metadata": {},
   "source": [
    "# Comparisons"
   ]
  },
  {
   "cell_type": "code",
   "execution_count": null,
   "id": "piano-direction",
   "metadata": {},
   "outputs": [],
   "source": [
    "print(2<3)"
   ]
  },
  {
   "cell_type": "code",
   "execution_count": null,
   "id": "romantic-surname",
   "metadata": {},
   "outputs": [],
   "source": [
    "c = 2<3\n",
    "type(c)\n",
    "print(type(c))\n",
    "print(c)"
   ]
  },
  {
   "cell_type": "code",
   "execution_count": null,
   "id": "ranking-chancellor",
   "metadata": {},
   "outputs": [],
   "source": [
    "d = 3 == 4"
   ]
  },
  {
   "cell_type": "code",
   "execution_count": null,
   "id": "verbal-profession",
   "metadata": {},
   "outputs": [],
   "source": [
    "print(d)"
   ]
  },
  {
   "cell_type": "code",
   "execution_count": null,
   "id": "executed-clock",
   "metadata": {},
   "outputs": [],
   "source": [
    "x = 4\n",
    "y = 9\n",
    "z = 8.3\n",
    "r = -3"
   ]
  },
  {
   "cell_type": "code",
   "execution_count": null,
   "id": "reflected-broadcasting",
   "metadata": {},
   "outputs": [],
   "source": [
    "(x < y) and (z < y) or (r == x)"
   ]
  },
  {
   "cell_type": "code",
   "execution_count": null,
   "id": "equal-capital",
   "metadata": {},
   "outputs": [],
   "source": [
    "(x < y) and (r == x) or (z < y)"
   ]
  },
  {
   "cell_type": "code",
   "execution_count": null,
   "id": "ambient-functionality",
   "metadata": {},
   "outputs": [],
   "source": [
    "print((not(2!=3) and True) or (False and True))"
   ]
  },
  {
   "cell_type": "markdown",
   "id": "solid-mauritius",
   "metadata": {},
   "source": [
    "# Some useful Functions"
   ]
  },
  {
   "cell_type": "code",
   "execution_count": null,
   "id": "occupational-grounds",
   "metadata": {},
   "outputs": [],
   "source": [
    "round(4.56805768565,4)"
   ]
  },
  {
   "cell_type": "code",
   "execution_count": null,
   "id": "assisted-northern",
   "metadata": {},
   "outputs": [],
   "source": [
    "round (435.110,2)"
   ]
  },
  {
   "cell_type": "code",
   "execution_count": null,
   "id": "personal-gender",
   "metadata": {},
   "outputs": [],
   "source": [
    "divmod(26,8)"
   ]
  },
  {
   "cell_type": "code",
   "execution_count": null,
   "id": "horizontal-astrology",
   "metadata": {},
   "outputs": [],
   "source": [
    "u = divmod (34, 2)"
   ]
  },
  {
   "cell_type": "code",
   "execution_count": null,
   "id": "accessible-replication",
   "metadata": {},
   "outputs": [],
   "source": [
    "print(type(u))"
   ]
  },
  {
   "cell_type": "code",
   "execution_count": null,
   "id": "headed-attack",
   "metadata": {},
   "outputs": [],
   "source": [
    "34//2"
   ]
  },
  {
   "cell_type": "code",
   "execution_count": null,
   "id": "dangerous-costs",
   "metadata": {},
   "outputs": [],
   "source": [
    "34%2"
   ]
  },
  {
   "cell_type": "code",
   "execution_count": null,
   "id": "latin-poland",
   "metadata": {},
   "outputs": [],
   "source": [
    "isinstance(3,int)"
   ]
  },
  {
   "cell_type": "code",
   "execution_count": null,
   "id": "mounted-jacket",
   "metadata": {},
   "outputs": [],
   "source": [
    "isinstance(2+3j,(int, float,str,complex))"
   ]
  },
  {
   "cell_type": "code",
   "execution_count": null,
   "id": "formed-fundamentals",
   "metadata": {},
   "outputs": [],
   "source": [
    "2**4"
   ]
  },
  {
   "cell_type": "code",
   "execution_count": null,
   "id": "addressed-priority",
   "metadata": {},
   "outputs": [],
   "source": [
    "pow(2,4,7)"
   ]
  },
  {
   "cell_type": "code",
   "execution_count": null,
   "id": "streaming-raising",
   "metadata": {},
   "outputs": [],
   "source": [
    "# x**y, pow(x,y), x^y%z(x raise to the power y and remainder z)"
   ]
  },
  {
   "cell_type": "code",
   "execution_count": null,
   "id": "hungarian-tsunami",
   "metadata": {},
   "outputs": [],
   "source": [
    "x = input(\"Enter a number : \") "
   ]
  },
  {
   "cell_type": "code",
   "execution_count": null,
   "id": "referenced-fight",
   "metadata": {},
   "outputs": [],
   "source": [
    "print(type(x))"
   ]
  },
  {
   "cell_type": "markdown",
   "id": "shaped-spirituality",
   "metadata": {},
   "source": [
    "# Control Flow"
   ]
  },
  {
   "cell_type": "code",
   "execution_count": 11,
   "id": "modern-portland",
   "metadata": {},
   "outputs": [
    {
     "name": "stdout",
     "output_type": "stream",
     "text": [
      "24\n",
      "45\n",
      "I am outside the if condition\n"
     ]
    }
   ],
   "source": [
    "a = (input())\n",
    "b = (input())\n",
    "if a>b:\n",
    "    print(a)\n",
    "    print(\"I am still inside if condition\")\n",
    "print(\"I am outside the if condition\")    "
   ]
  },
  {
   "cell_type": "code",
   "execution_count": 12,
   "id": "amino-intensity",
   "metadata": {},
   "outputs": [
    {
     "name": "stdout",
     "output_type": "stream",
     "text": [
      "34\n",
      "76\n",
      "76\n"
     ]
    }
   ],
   "source": [
    "a = int(input())\n",
    "b = int(input())\n",
    "if a>b:\n",
    "    print(a)\n",
    "if b>a:\n",
    "    print(b)    "
   ]
  },
  {
   "cell_type": "code",
   "execution_count": 13,
   "id": "vanilla-tiffany",
   "metadata": {},
   "outputs": [
    {
     "name": "stdout",
     "output_type": "stream",
     "text": [
      "87\n",
      "2\n",
      "87\n",
      "if part\n"
     ]
    }
   ],
   "source": [
    "a = int(input())\n",
    "b = int(input())\n",
    "if a>b:\n",
    "    print(a)\n",
    "    print(\"if part\")\n",
    "else:    \n",
    "    print(b)\n",
    "    print(\"else part\")"
   ]
  },
  {
   "cell_type": "code",
   "execution_count": 14,
   "id": "proof-alloy",
   "metadata": {},
   "outputs": [
    {
     "name": "stdout",
     "output_type": "stream",
     "text": [
      "B\n",
      "not in if\n"
     ]
    }
   ],
   "source": [
    "a = 1\n",
    "b = 5\n",
    "if a==b:\n",
    "    print(\"Equal\")\n",
    "elif a>b:\n",
    "    print(\"A\")\n",
    "else:\n",
    "    print(\"B\")\n",
    "print(\"not in if\")"
   ]
  },
  {
   "cell_type": "code",
   "execution_count": 15,
   "id": "incomplete-prisoner",
   "metadata": {},
   "outputs": [
    {
     "name": "stdout",
     "output_type": "stream",
     "text": [
      "Enter Marks :67\n",
      "Below Average\n"
     ]
    }
   ],
   "source": [
    "a = int(input(\"Enter Marks :\"))\n",
    "if a >= 85:\n",
    "    print(\"A grade\")\n",
    "elif (a < 85) and (a >= 80):\n",
    "    print(\"A grade\")\n",
    "elif (a < 80) and a >= 75:\n",
    "    print(\"B grade\")\n",
    "elif (a < 75) and a >= 70:\n",
    "    print(\"B grade\")\n",
    "else:\n",
    "    print(\"Below Average\")\n",
    "    \n"
   ]
  },
  {
   "cell_type": "code",
   "execution_count": 16,
   "id": "behind-heather",
   "metadata": {},
   "outputs": [
    {
     "name": "stdout",
     "output_type": "stream",
     "text": [
      "Else part\n"
     ]
    }
   ],
   "source": [
    "a = 3\n",
    "if a > 10:\n",
    "    print(\">10\")\n",
    "elif not (a > 10):\n",
    "    print(\"Else part\")"
   ]
  },
  {
   "cell_type": "code",
   "execution_count": 17,
   "id": "governing-footage",
   "metadata": {},
   "outputs": [
    {
     "name": "stdout",
     "output_type": "stream",
     "text": [
      "Else part\n"
     ]
    }
   ],
   "source": [
    "a = 7\n",
    "if a > 10:\n",
    "    print(\"if part\")\n",
    "elif not(a > 10):\n",
    "        print (\"Else part\")"
   ]
  },
  {
   "cell_type": "markdown",
   "id": "polished-acrobat",
   "metadata": {},
   "source": [
    "# Nested If"
   ]
  },
  {
   "cell_type": "code",
   "execution_count": 20,
   "id": "differential-words",
   "metadata": {},
   "outputs": [
    {
     "name": "stdout",
     "output_type": "stream",
     "text": [
      "Enter a number :34\n",
      ">10\n",
      "Inside the top if\n",
      ">20\n",
      "Inside the nested if\n",
      ">30\n",
      "Inside the nested if of nested if\n",
      "outside all ifs\n"
     ]
    }
   ],
   "source": [
    "a = int(input(\"Enter a number :\"))\n",
    "if a>10:\n",
    "    print(\">10\")\n",
    "    print(\"Inside the top if\")\n",
    "    if a>20:\n",
    "        print(\">20\")\n",
    "        print(\"Inside the nested if\")\n",
    "        if a>30:\n",
    "            print(\">30\")\n",
    "            print(\"Inside the nested if of nested if\")\n",
    "        else:\n",
    "            print(\"<=30\")\n",
    "            print(\"Inside the else part of nested if of nested if\")\n",
    "    else:\n",
    "            print(\"<=20\")\n",
    "            print(\"Inside the else part of nested if\")  \n",
    "print(\"outside all ifs\")"
   ]
  },
  {
   "cell_type": "code",
   "execution_count": null,
   "id": "paperback-handy",
   "metadata": {},
   "outputs": [],
   "source": [
    "12\n"
   ]
  },
  {
   "cell_type": "markdown",
   "id": "flying-senior",
   "metadata": {},
   "source": [
    "# Loops(if-else)"
   ]
  },
  {
   "cell_type": "code",
   "execution_count": 2,
   "id": "divided-channel",
   "metadata": {},
   "outputs": [
    {
     "name": "stdout",
     "output_type": "stream",
     "text": [
      "Enter a real number :45.1\n",
      "odd\n"
     ]
    }
   ],
   "source": [
    "# Multi-line comment\n",
    "\"\"\"\"\n",
    "\n",
    "User will enter a floating point number let say 238.915. Your task is to find out the integer portion before the point (in this case 238) and then check if that integer portion is an even number or not?\n",
    "\"\"\"\n",
    "x = float(input(\"Enter a real number :\"))\n",
    "y = round(x) \n",
    "\n",
    "\n",
    "if x>0:\n",
    "    \n",
    "    if y>x:\n",
    "        intPortion = y-1\n",
    "    \n",
    "    else:\n",
    "        intPortion =  y\n",
    "        \n",
    "else:        \n",
    "    \n",
    "    if y<x:\n",
    "        intPortion = y +1\n",
    "        \n",
    "    else:\n",
    "        intPortion = y\n",
    "        \n",
    "    \n",
    "if  intPortion%2 == 0:\n",
    "     print(\"even\")\n",
    "    \n",
    "else:\n",
    "     print(\"odd\")\n",
    "    \n",
    "    \n",
    "    "
   ]
  },
  {
   "cell_type": "markdown",
   "id": "technological-richards",
   "metadata": {},
   "source": [
    "# Loops(while)"
   ]
  },
  {
   "cell_type": "code",
   "execution_count": 10,
   "id": "reliable-alarm",
   "metadata": {},
   "outputs": [
    {
     "name": "stdout",
     "output_type": "stream",
     "text": [
      "4\n",
      "1\n",
      "2\n",
      "3\n",
      "done\n"
     ]
    }
   ],
   "source": [
    "n = int(input())\n",
    "i = 1\n",
    "while (i < n):\n",
    "    print(i)\n",
    "    i = i+1\n",
    "print(\"done\")"
   ]
  },
  {
   "cell_type": "markdown",
   "id": "circular-waterproof",
   "metadata": {},
   "source": [
    " "
   ]
  },
  {
   "cell_type": "code",
   "execution_count": 21,
   "id": "directed-legend",
   "metadata": {},
   "outputs": [
    {
     "name": "stdout",
     "output_type": "stream",
     "text": [
      "Inside else\n",
      "Inside else\n",
      "Inside else\n",
      "Inside else\n",
      "Inside else\n",
      "Inside else\n",
      "Inside else\n",
      "Inside else\n",
      "Inside if\n",
      "done\n"
     ]
    }
   ],
   "source": [
    "n = 10\n",
    "i = 1\n",
    "while True:\n",
    "    if i%9 == 0:\n",
    "        print(\"Inside if\")\n",
    "        break\n",
    "    else:\n",
    "        print(\"Inside else\")\n",
    "        i +=1\n",
    "print(\"done\")        "
   ]
  },
  {
   "cell_type": "code",
   "execution_count": 22,
   "id": "decent-editing",
   "metadata": {},
   "outputs": [
    {
     "name": "stdout",
     "output_type": "stream",
     "text": [
      "Inside if\n",
      "Inside if\n",
      "Inside if\n",
      "Inside if\n",
      "Inside if\n",
      "Inside if\n",
      "Inside if\n",
      "Inside if\n",
      "something\n",
      "somthingelse\n",
      "done\n"
     ]
    }
   ],
   "source": [
    "n = 10\n",
    "i = 1\n",
    "while True:\n",
    "    if i%9!=0:\n",
    "        print(\"Inside if\")\n",
    "        i +=1\n",
    "        continue\n",
    "    print(\"something\")\n",
    "    print(\"somthingelse\")  \n",
    "    break\n",
    "        \n",
    "print(\"done\")"
   ]
  },
  {
   "cell_type": "markdown",
   "id": "wrong-opportunity",
   "metadata": {},
   "source": [
    "# Loops(For)"
   ]
  },
  {
   "cell_type": "code",
   "execution_count": 23,
   "id": "bright-prevention",
   "metadata": {},
   "outputs": [
    {
     "name": "stdout",
     "output_type": "stream",
     "text": [
      "1\n",
      "3\n",
      "5\n",
      "7\n",
      "9\n",
      "[0, 4, 16, 36, 64]\n"
     ]
    }
   ],
   "source": [
    "L = []\n",
    "for i in range(0,10,2):\n",
    "    print(i+1)\n",
    "    L.append(i**2)\n",
    "print(L)"
   ]
  },
  {
   "cell_type": "code",
   "execution_count": 53,
   "id": "seventh-consistency",
   "metadata": {},
   "outputs": [
    {
     "name": "stdout",
     "output_type": "stream",
     "text": [
      "cherry\n",
      "apple\n",
      "4.9\n",
      "outside the loop\n"
     ]
    }
   ],
   "source": [
    "S = {\"apple\",4.9,\"cherry\"}\n",
    "i = 0\n",
    "for x in S:\n",
    "    print(x)\n",
    "    i+=1\n",
    "    if i ==3:\n",
    "        break\n",
    "    else:\n",
    "        pass\n",
    "else:\n",
    "    print(\"Loop terminates with success\")\n",
    "print(\"outside the loop\")"
   ]
  },
  {
   "cell_type": "code",
   "execution_count": 58,
   "id": "inside-bottle",
   "metadata": {},
   "outputs": [
    {
     "name": "stdout",
     "output_type": "stream",
     "text": [
      "A 10\n",
      "B -19\n",
      "C abcd\n"
     ]
    }
   ],
   "source": [
    "D = {\"A\":10, \"B\":-19 , \"C\": \"abcd\"}\n",
    "for x in D:\n",
    "    print(x, D[x])"
   ]
  },
  {
   "cell_type": "code",
   "execution_count": 11,
   "id": "norman-envelope",
   "metadata": {},
   "outputs": [
    {
     "name": "stdout",
     "output_type": "stream",
     "text": [
      "-5\n"
     ]
    }
   ],
   "source": [
    "\"\"\"\n",
    "Given a list of numbers i.e [1,2,4,-5,7,9,3,2], \n",
    "make another list that contains all the items in\n",
    "sorted order from min to max. i.e your result\n",
    "will be another list like [-5,1,2,2,3,4,7,9]\n",
    "\n",
    "\"\"\"\n",
    "\n",
    "L = [1,2,4,-5,7,9,3,2]\n",
    "\n",
    "m = L[0]               # m = value at zeroth index. \n",
    "for i in L:\n",
    "    if (i<m):\n",
    "    m = i\n",
    "print(m)"
   ]
  },
  {
   "cell_type": "code",
   "execution_count": 21,
   "id": "offensive-effect",
   "metadata": {},
   "outputs": [
    {
     "name": "stdout",
     "output_type": "stream",
     "text": [
      "3 -5\n"
     ]
    }
   ],
   "source": [
    "\"\"\"\n",
    "Given a list of numbers i.e [1,2,4,-5,7,9,3,2], \n",
    "make another list that contains all the items in\n",
    "sorted order from min to max. i.e your result\n",
    "will be another list like [-5,1,2,2,3,4,7,9]\n",
    "\n",
    "\"\"\"\n",
    "\n",
    "L = [1,2,4,-5,7,9,3,2]\n",
    "\n",
    "m = L[0]        # it will print value from the list.\n",
    "idx = 0         # it will print index not value from the list.\n",
    "c = 0           # \n",
    "for i in L:\n",
    "    if(i<m):\n",
    "        m = i\n",
    "        idx = c\n",
    "    c+=1        \n",
    "print(idx,m)            \n",
    "            \n"
   ]
  },
  {
   "cell_type": "code",
   "execution_count": 26,
   "id": "respected-merchant",
   "metadata": {},
   "outputs": [
    {
     "name": "stdout",
     "output_type": "stream",
     "text": [
      "[-5, 1, 2, 2, 3, 4, 7, 9]\n"
     ]
    }
   ],
   "source": [
    "\"\"\"\n",
    "Given a list of numbers i.e [1,2,4,-5,7,9,3,2], \n",
    "make another list that contains all the items in\n",
    "sorted order from min to max. i.e your result\n",
    "will be another list like [-5,1,2,2,3,4,7,9]\n",
    "\n",
    "\"\"\"\n",
    "\n",
    "L = [1,2,4,-5,7,9,3,2] \n",
    "\n",
    "for j in range(len(L)):\n",
    "    m = L[j]\n",
    "    idx = j\n",
    "    c = j\n",
    "    for i in range(j,len(L)):\n",
    "        if(L[i]<m):\n",
    "            m =L[i]\n",
    "            idx = c\n",
    "        c+=1 \n",
    "    tmp = L[j]\n",
    "    L[j] = m\n",
    "    L[idx] = tmp\n",
    "print(L)"
   ]
  },
  {
   "cell_type": "code",
   "execution_count": 10,
   "id": "wrapped-thanksgiving",
   "metadata": {},
   "outputs": [
    {
     "name": "stdout",
     "output_type": "stream",
     "text": [
      "[-5, 1, 2, 2, 3, 4, 7, 9]\n"
     ]
    }
   ],
   "source": [
    "\"\"\"\n",
    "Given a list of numbers i.e [1,2,4,-5,7,9,3,2],make\n",
    "another list that contains all the items in sorted \n",
    "order from min to max. i.e your result will be \n",
    "another list like [-5,1,2,2,3,4,7,9]\n",
    "\n",
    "\"\"\"\n",
    "\n",
    "L = [1,2,4,-5,7,9,3,2]\n",
    "\n",
    "for j in range(len(L)):\n",
    "    m = L[j]\n",
    "    idx = j\n",
    "    c = j\n",
    "    for i in range(j,len(L)):\n",
    "        if L[i] < m:\n",
    "            m = L[i]\n",
    "            idx = c\n",
    "        c+=1\n",
    "    tmp = L[j]\n",
    "    L[j] = m\n",
    "    L[idx] = tmp\n",
    "print(L)        \n",
    "    \n",
    "\n",
    "\n"
   ]
  },
  {
   "cell_type": "code",
   "execution_count": null,
   "id": "relative-margin",
   "metadata": {},
   "outputs": [],
   "source": [
    "\n"
   ]
  },
  {
   "cell_type": "code",
   "execution_count": null,
   "id": "wrapped-privacy",
   "metadata": {},
   "outputs": [],
   "source": [
    " "
   ]
  },
  {
   "cell_type": "code",
   "execution_count": 58,
   "id": "fuzzy-settlement",
   "metadata": {},
   "outputs": [
    {
     "name": "stdout",
     "output_type": "stream",
     "text": [
      "\n",
      "\n",
      "\n",
      "\n",
      "\n"
     ]
    }
   ],
   "source": []
  },
  {
   "cell_type": "code",
   "execution_count": null,
   "id": "associate-lightweight",
   "metadata": {},
   "outputs": [],
   "source": []
  },
  {
   "cell_type": "code",
   "execution_count": null,
   "id": "fitting-progressive",
   "metadata": {},
   "outputs": [],
   "source": []
  }
 ],
 "metadata": {
  "kernelspec": {
   "display_name": "Python 3",
   "language": "python",
   "name": "python3"
  },
  "language_info": {
   "codemirror_mode": {
    "name": "ipython",
    "version": 3
   },
   "file_extension": ".py",
   "mimetype": "text/x-python",
   "name": "python",
   "nbconvert_exporter": "python",
   "pygments_lexer": "ipython3",
   "version": "3.9.5"
  }
 },
 "nbformat": 4,
 "nbformat_minor": 5
}
